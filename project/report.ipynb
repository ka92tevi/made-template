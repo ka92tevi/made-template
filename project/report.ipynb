{
 "cells": [
  {
   "cell_type": "markdown",
   "metadata": {},
   "source": [
    "# Report: Correlation between rates of road accident in Cologne and with respect to bicycle traffic data in Cologne"
   ]
  },
  {
   "cell_type": "markdown",
   "metadata": {},
   "source": [
    "# Contents:\n",
    "\n",
    "1.Introduction\n",
    "2.Data Source\n",
    "3.Installation of dependencies\n",
    "4.Loading Data\n",
    "5.Question\n",
    "6.Conclusion"
   ]
  },
  {
   "cell_type": "markdown",
   "metadata": {},
   "source": [
    "# Introduction:\n",
    "\n",
    "In Cologne biking is always a preferred mode of environmentally friendly transportation.We see an increase in the bicycle traffic in Cologne as well as road accident.\n",
    "\n",
    "1.What is the change of accident rate across Germany ?Has the accident rate increased or decreased in recent years?\n",
    "2.What is the rate of Bicycle traffic in Cologne?"
   ]
  },
  {
   "cell_type": "markdown",
   "metadata": {},
   "source": [
    "# Data Source:\n",
    "\n",
    "Datasource 1: Mobilithek\n",
    "\n",
    "Metadata URL 1: https://mobilithek.info/offers/-7344603824143622751\n",
    "Data URL 1: https://offenedaten-koeln.de/sites/default/files/KFZ_Zaheldaten_2016-2019_node.csv\n",
    "Data Type: CSV Vehicle counting points and values ​​Cologne\n",
    "\n",
    "Datasource 2: European Data Portal\n",
    "Metadata URL 2: https://data.europa.eu/data/datasets/70dd472a-dce0-401c-bb3e-5322d626e1f0?locale=en\n",
    "Data URL 2: https://offenedaten-koeln.de/dataset/unfallstatistik-k%C3%B6ln/resource/a32e0d4a-8a29-4b18-a49d-a9e1966c8c6f#{}\n",
    "Data Type: CSV Accident statistics Cologne\n",
    "\n",
    "Datasource 3: Mobilithek\n",
    "Metadata URL 3: https://mobilithek.info/offers/-4758259495105693759\n",
    "Data URL 3: https://offenedaten-koeln.de/sites/default/files/Radverkehr%20f%C3%BCr%20Offene%20Daten%20K%C3%B6ln%202013.csv\n",
    "Data Type: CSV Bicycle traffic data Cologne\n",
    "\n",
    "This projects tries to draw a connections between the rate of in bicycle traffic data Cologne from the data of vehicle counting point with the road accidents statistics in cologne ."
   ]
  },
  {
   "cell_type": "markdown",
   "metadata": {},
   "source": [
    "# Installation of dependencies :"
   ]
  },
  {
   "cell_type": "code",
   "execution_count": 2,
   "metadata": {},
   "outputs": [
    {
     "name": "stdout",
     "output_type": "stream",
     "text": [
      "Requirement already satisfied: pandas in c:\\users\\rituparna bose\\documents\\course module\\winter module_2024\\data engineering_saki\\made\\env\\lib\\site-packages (1.5.3)\n",
      "Requirement already satisfied: python-dateutil>=2.8.1 in c:\\users\\rituparna bose\\documents\\course module\\winter module_2024\\data engineering_saki\\made\\env\\lib\\site-packages (from pandas) (2.8.2)\n",
      "Requirement already satisfied: pytz>=2020.1 in c:\\users\\rituparna bose\\documents\\course module\\winter module_2024\\data engineering_saki\\made\\env\\lib\\site-packages (from pandas) (2022.7.1)\n",
      "Requirement already satisfied: numpy>=1.21.0 in c:\\users\\rituparna bose\\documents\\course module\\winter module_2024\\data engineering_saki\\made\\env\\lib\\site-packages (from pandas) (1.24.2)\n",
      "Requirement already satisfied: six>=1.5 in c:\\users\\rituparna bose\\documents\\course module\\winter module_2024\\data engineering_saki\\made\\env\\lib\\site-packages (from python-dateutil>=2.8.1->pandas) (1.16.0)\n",
      "Note: you may need to restart the kernel to use updated packages.\n"
     ]
    },
    {
     "name": "stderr",
     "output_type": "stream",
     "text": [
      "\n",
      "[notice] A new release of pip is available: 23.3.1 -> 23.3.2\n",
      "[notice] To update, run: python.exe -m pip install --upgrade pip\n"
     ]
    },
    {
     "name": "stdout",
     "output_type": "stream",
     "text": [
      "Collecting plotly\n",
      "  Downloading plotly-5.18.0-py3-none-any.whl.metadata (7.0 kB)\n",
      "Collecting tenacity>=6.2.0 (from plotly)\n",
      "  Downloading tenacity-8.2.3-py3-none-any.whl.metadata (1.0 kB)\n",
      "Requirement already satisfied: packaging in c:\\users\\rituparna bose\\documents\\course module\\winter module_2024\\data engineering_saki\\made\\env\\lib\\site-packages (from plotly) (23.0)\n",
      "Downloading plotly-5.18.0-py3-none-any.whl (15.6 MB)\n",
      "   ---------------------------------------- 0.0/15.6 MB ? eta -:--:--\n",
      "    --------------------------------------- 0.4/15.6 MB 5.9 MB/s eta 0:00:03\n",
      "   ---- ----------------------------------- 1.6/15.6 MB 17.3 MB/s eta 0:00:01\n",
      "   ------- -------------------------------- 3.1/15.6 MB 21.6 MB/s eta 0:00:01\n",
      "   ----------- ---------------------------- 4.4/15.6 MB 25.4 MB/s eta 0:00:01\n",
      "   -------------- ------------------------- 5.7/15.6 MB 26.1 MB/s eta 0:00:01\n",
      "   ------------------ --------------------- 7.1/15.6 MB 28.3 MB/s eta 0:00:01\n",
      "   --------------------- ------------------ 8.4/15.6 MB 28.2 MB/s eta 0:00:01\n",
      "   --------------------- ------------------ 8.4/15.6 MB 28.2 MB/s eta 0:00:01\n",
      "   ----------------------- ---------------- 9.3/15.6 MB 24.8 MB/s eta 0:00:01\n",
      "   ----------------------------- ---------- 11.4/15.6 MB 29.8 MB/s eta 0:00:01\n",
      "   ---------------------------------- ----- 13.4/15.6 MB 31.2 MB/s eta 0:00:01\n",
      "   ------------------------------------- -- 14.6/15.6 MB 31.2 MB/s eta 0:00:01\n",
      "   ---------------------------------------  15.6/15.6 MB 29.8 MB/s eta 0:00:01\n",
      "   ---------------------------------------  15.6/15.6 MB 29.8 MB/s eta 0:00:01\n",
      "   ---------------------------------------  15.6/15.6 MB 29.8 MB/s eta 0:00:01\n",
      "   ---------------------------------------  15.6/15.6 MB 29.8 MB/s eta 0:00:01\n",
      "   ---------------------------------------  15.6/15.6 MB 29.8 MB/s eta 0:00:01\n",
      "   ---------------------------------------  15.6/15.6 MB 29.8 MB/s eta 0:00:01\n",
      "   ---------------------------------------  15.6/15.6 MB 29.8 MB/s eta 0:00:01\n",
      "   ---------------------------------------  15.6/15.6 MB 29.8 MB/s eta 0:00:01\n",
      "   ---------------------------------------  15.6/15.6 MB 29.8 MB/s eta 0:00:01\n",
      "   ---------------------------------------  15.6/15.6 MB 29.8 MB/s eta 0:00:01\n",
      "   ---------------------------------------  15.6/15.6 MB 29.8 MB/s eta 0:00:01\n",
      "   ---------------------------------------  15.6/15.6 MB 29.8 MB/s eta 0:00:01\n",
      "   ---------------------------------------- 15.6/15.6 MB 11.7 MB/s eta 0:00:00\n",
      "Downloading tenacity-8.2.3-py3-none-any.whl (24 kB)\n",
      "Installing collected packages: tenacity, plotly\n",
      "Successfully installed plotly-5.18.0 tenacity-8.2.3\n",
      "Note: you may need to restart the kernel to use updated packages.\n"
     ]
    },
    {
     "name": "stderr",
     "output_type": "stream",
     "text": [
      "\n",
      "[notice] A new release of pip is available: 23.3.1 -> 23.3.2\n",
      "[notice] To update, run: python.exe -m pip install --upgrade pip\n"
     ]
    },
    {
     "name": "stdout",
     "output_type": "stream",
     "text": [
      "Requirement already satisfied: SQLAlchemy==1.4.46 in c:\\users\\rituparna bose\\documents\\course module\\winter module_2024\\data engineering_saki\\made\\env\\lib\\site-packages (1.4.46)\n",
      "Requirement already satisfied: greenlet!=0.4.17 in c:\\users\\rituparna bose\\documents\\course module\\winter module_2024\\data engineering_saki\\made\\env\\lib\\site-packages (from SQLAlchemy==1.4.46) (2.0.2)\n",
      "Note: you may need to restart the kernel to use updated packages.\n"
     ]
    },
    {
     "name": "stderr",
     "output_type": "stream",
     "text": [
      "\n",
      "[notice] A new release of pip is available: 23.3.1 -> 23.3.2\n",
      "[notice] To update, run: python.exe -m pip install --upgrade pip\n"
     ]
    },
    {
     "name": "stdout",
     "output_type": "stream",
     "text": [
      "Collecting nbformatNote: you may need to restart the kernel to use updated packages.\n"
     ]
    },
    {
     "name": "stderr",
     "output_type": "stream",
     "text": [
      "\n",
      "[notice] A new release of pip is available: 23.3.1 -> 23.3.2\n",
      "[notice] To update, run: python.exe -m pip install --upgrade pip\n"
     ]
    },
    {
     "name": "stdout",
     "output_type": "stream",
     "text": [
      "\n",
      "  Downloading nbformat-5.9.2-py3-none-any.whl.metadata (3.4 kB)\n",
      "Collecting fastjsonschema (from nbformat)\n",
      "  Downloading fastjsonschema-2.19.1-py3-none-any.whl.metadata (2.1 kB)\n",
      "Collecting jsonschema>=2.6 (from nbformat)\n",
      "  Downloading jsonschema-4.20.0-py3-none-any.whl.metadata (8.1 kB)\n",
      "Requirement already satisfied: jupyter-core in c:\\users\\rituparna bose\\documents\\course module\\winter module_2024\\data engineering_saki\\made\\env\\lib\\site-packages (from nbformat) (5.7.1)\n",
      "Requirement already satisfied: traitlets>=5.1 in c:\\users\\rituparna bose\\documents\\course module\\winter module_2024\\data engineering_saki\\made\\env\\lib\\site-packages (from nbformat) (5.14.1)\n",
      "Requirement already satisfied: attrs>=22.2.0 in c:\\users\\rituparna bose\\documents\\course module\\winter module_2024\\data engineering_saki\\made\\env\\lib\\site-packages (from jsonschema>=2.6->nbformat) (22.2.0)\n",
      "Collecting jsonschema-specifications>=2023.03.6 (from jsonschema>=2.6->nbformat)\n",
      "  Downloading jsonschema_specifications-2023.12.1-py3-none-any.whl.metadata (3.0 kB)\n",
      "Collecting referencing>=0.28.4 (from jsonschema>=2.6->nbformat)\n",
      "  Downloading referencing-0.32.1-py3-none-any.whl.metadata (2.7 kB)\n",
      "Collecting rpds-py>=0.7.1 (from jsonschema>=2.6->nbformat)\n",
      "  Downloading rpds_py-0.16.2-cp311-none-win_amd64.whl.metadata (4.2 kB)\n",
      "Requirement already satisfied: platformdirs>=2.5 in c:\\users\\rituparna bose\\documents\\course module\\winter module_2024\\data engineering_saki\\made\\env\\lib\\site-packages (from jupyter-core->nbformat) (4.1.0)\n",
      "Requirement already satisfied: pywin32>=300 in c:\\users\\rituparna bose\\documents\\course module\\winter module_2024\\data engineering_saki\\made\\env\\lib\\site-packages (from jupyter-core->nbformat) (306)\n",
      "Downloading nbformat-5.9.2-py3-none-any.whl (77 kB)\n",
      "   ---------------------------------------- 0.0/77.6 kB ? eta -:--:--\n",
      "   ------------------------------------ --- 71.7/77.6 kB 3.8 MB/s eta 0:00:01\n",
      "   ------------------------------------ --- 71.7/77.6 kB 3.8 MB/s eta 0:00:01\n",
      "   ------------------------------------ --- 71.7/77.6 kB 3.8 MB/s eta 0:00:01\n",
      "   ------------------------------------ --- 71.7/77.6 kB 3.8 MB/s eta 0:00:01\n",
      "   ------------------------------------ --- 71.7/77.6 kB 3.8 MB/s eta 0:00:01\n",
      "   ------------------------------------ --- 71.7/77.6 kB 3.8 MB/s eta 0:00:01\n",
      "   ------------------------------------ --- 71.7/77.6 kB 3.8 MB/s eta 0:00:01\n",
      "   ------------------------------------ --- 71.7/77.6 kB 3.8 MB/s eta 0:00:01\n",
      "   ------------------------------------ --- 71.7/77.6 kB 3.8 MB/s eta 0:00:01\n",
      "   ------------------------------------ --- 71.7/77.6 kB 3.8 MB/s eta 0:00:01\n",
      "   ------------------------------------ --- 71.7/77.6 kB 3.8 MB/s eta 0:00:01\n",
      "   ------------------------------------ --- 71.7/77.6 kB 3.8 MB/s eta 0:00:01\n",
      "   ------------------------------------ --- 71.7/77.6 kB 3.8 MB/s eta 0:00:01\n",
      "   ---------------------------------------- 77.6/77.6 kB 107.8 kB/s eta 0:00:00\n",
      "Downloading jsonschema-4.20.0-py3-none-any.whl (84 kB)\n",
      "   ---------------------------------------- 0.0/84.7 kB ? eta -:--:--\n",
      "   -------------------------------------- - 81.9/84.7 kB ? eta -:--:--\n",
      "   -------------------------------------- - 81.9/84.7 kB ? eta -:--:--\n",
      "   ---------------------------------------- 84.7/84.7 kB 676.6 kB/s eta 0:00:00\n",
      "Downloading fastjsonschema-2.19.1-py3-none-any.whl (23 kB)\n",
      "Downloading jsonschema_specifications-2023.12.1-py3-none-any.whl (18 kB)\n",
      "Downloading referencing-0.32.1-py3-none-any.whl (26 kB)\n",
      "Downloading rpds_py-0.16.2-cp311-none-win_amd64.whl (195 kB)\n",
      "   ---------------------------------------- 0.0/195.8 kB ? eta -:--:--\n",
      "   ---------------------------------------  194.6/195.8 kB ? eta -:--:--\n",
      "   ---------------------------------------  194.6/195.8 kB ? eta -:--:--\n",
      "   ---------------------------------------- 195.8/195.8 kB 1.7 MB/s eta 0:00:00\n",
      "Installing collected packages: fastjsonschema, rpds-py, referencing, jsonschema-specifications, jsonschema, nbformat\n",
      "Successfully installed fastjsonschema-2.19.1 jsonschema-4.20.0 jsonschema-specifications-2023.12.1 nbformat-5.9.2 referencing-0.32.1 rpds-py-0.16.2\n",
      "Collecting matplotlib\n",
      "  Using cached matplotlib-3.8.2-cp311-cp311-win_amd64.whl.metadata (5.9 kB)\n",
      "Collecting contourpy>=1.0.1 (from matplotlib)\n",
      "  Using cached contourpy-1.2.0-cp311-cp311-win_amd64.whl.metadata (5.8 kB)\n",
      "Collecting cycler>=0.10 (from matplotlib)\n",
      "  Using cached cycler-0.12.1-py3-none-any.whl.metadata (3.8 kB)\n",
      "Collecting fonttools>=4.22.0 (from matplotlib)\n",
      "  Downloading fonttools-4.47.0-cp311-cp311-win_amd64.whl.metadata (160 kB)\n",
      "     ---------------------------------------- 0.0/160.4 kB ? eta -:--:--\n",
      "     ------------------------------------ - 153.6/160.4 kB 9.0 MB/s eta 0:00:01\n",
      "     ------------------------------------ - 153.6/160.4 kB 9.0 MB/s eta 0:00:01\n",
      "     ------------------------------------ - 153.6/160.4 kB 9.0 MB/s eta 0:00:01\n",
      "     ------------------------------------ - 153.6/160.4 kB 9.0 MB/s eta 0:00:01\n",
      "     ------------------------------------ - 153.6/160.4 kB 9.0 MB/s eta 0:00:01\n",
      "     ------------------------------------ 160.4/160.4 kB 600.5 kB/s eta 0:00:00\n",
      "Collecting kiwisolver>=1.3.1 (from matplotlib)\n",
      "  Using cached kiwisolver-1.4.5-cp311-cp311-win_amd64.whl.metadata (6.5 kB)\n",
      "Requirement already satisfied: numpy<2,>=1.21 in c:\\users\\rituparna bose\\documents\\course module\\winter module_2024\\data engineering_saki\\made\\env\\lib\\site-packages (from matplotlib) (1.24.2)\n",
      "Requirement already satisfied: packaging>=20.0 in c:\\users\\rituparna bose\\documents\\course module\\winter module_2024\\data engineering_saki\\made\\env\\lib\\site-packages (from matplotlib) (23.0)\n",
      "Collecting pillow>=8 (from matplotlib)\n",
      "  Downloading pillow-10.2.0-cp311-cp311-win_amd64.whl.metadata (9.9 kB)\n",
      "Collecting pyparsing>=2.3.1 (from matplotlib)\n",
      "  Using cached pyparsing-3.1.1-py3-none-any.whl.metadata (5.1 kB)\n",
      "Requirement already satisfied: python-dateutil>=2.7 in c:\\users\\rituparna bose\\documents\\course module\\winter module_2024\\data engineering_saki\\made\\env\\lib\\site-packages (from matplotlib) (2.8.2)\n",
      "Requirement already satisfied: six>=1.5 in c:\\users\\rituparna bose\\documents\\course module\\winter module_2024\\data engineering_saki\\made\\env\\lib\\site-packages (from python-dateutil>=2.7->matplotlib) (1.16.0)\n",
      "Using cached matplotlib-3.8.2-cp311-cp311-win_amd64.whl (7.6 MB)\n",
      "Using cached contourpy-1.2.0-cp311-cp311-win_amd64.whl (187 kB)\n",
      "Using cached cycler-0.12.1-py3-none-any.whl (8.3 kB)\n",
      "Downloading fonttools-4.47.0-cp311-cp311-win_amd64.whl (2.2 MB)\n",
      "   ---------------------------------------- 0.0/2.2 MB ? eta -:--:--\n",
      "   ------------------- -------------------- 1.1/2.2 MB 33.3 MB/s eta 0:00:01\n",
      "   ---------------------------------------  2.2/2.2 MB 27.3 MB/s eta 0:00:01\n",
      "   ---------------------------------------  2.2/2.2 MB 27.3 MB/s eta 0:00:01\n",
      "   ---------------------------------------  2.2/2.2 MB 27.3 MB/s eta 0:00:01\n",
      "   ---------------------------------------  2.2/2.2 MB 27.3 MB/s eta 0:00:01\n",
      "   ---------------------------------------  2.2/2.2 MB 27.3 MB/s eta 0:00:01\n",
      "   ---------------------------------------  2.2/2.2 MB 27.3 MB/s eta 0:00:01\n",
      "   ---------------------------------------  2.2/2.2 MB 27.3 MB/s eta 0:00:01\n",
      "   ---------------------------------------  2.2/2.2 MB 27.3 MB/s eta 0:00:01\n",
      "   ---------------------------------------  2.2/2.2 MB 27.3 MB/s eta 0:00:01\n",
      "   ---------------------------------------  2.2/2.2 MB 27.3 MB/s eta 0:00:01\n",
      "   ---------------------------------------- 2.2/2.2 MB 4.3 MB/s eta 0:00:00\n",
      "Using cached kiwisolver-1.4.5-cp311-cp311-win_amd64.whl (56 kB)\n",
      "Downloading pillow-10.2.0-cp311-cp311-win_amd64.whl (2.6 MB)\n",
      "   ---------------------------------------- 0.0/2.6 MB ? eta -:--:--\n",
      "   ------------- -------------------------- 0.9/2.6 MB 54.4 MB/s eta 0:00:01\n",
      "   ---------------------------------------  2.6/2.6 MB 41.3 MB/s eta 0:00:01\n",
      "   ---------------------------------------  2.6/2.6 MB 41.3 MB/s eta 0:00:01\n",
      "   ---------------------------------------  2.6/2.6 MB 41.3 MB/s eta 0:00:01\n",
      "   ---------------------------------------- 2.6/2.6 MB 15.2 MB/s eta 0:00:00\n",
      "Using cached pyparsing-3.1.1-py3-none-any.whl (103 kB)\n",
      "Installing collected packages: pyparsing, pillow, kiwisolver, fonttools, cycler, contourpy, matplotlib\n",
      "Successfully installed contourpy-1.2.0 cycler-0.12.1 fonttools-4.47.0 kiwisolver-1.4.5 matplotlib-3.8.2 pillow-10.2.0 pyparsing-3.1.1\n",
      "Note: you may need to restart the kernel to use updated packages.\n"
     ]
    },
    {
     "name": "stderr",
     "output_type": "stream",
     "text": [
      "\n",
      "[notice] A new release of pip is available: 23.3.1 -> 23.3.2\n",
      "[notice] To update, run: python.exe -m pip install --upgrade pip\n"
     ]
    }
   ],
   "source": [
    "%pip install pandas\n",
    "%pip install plotly\n",
    "%pip install SQLAlchemy==1.4.46\n",
    "%pip install nbformat\n",
    "%pip install matplotlib"
   ]
  },
  {
   "cell_type": "markdown",
   "metadata": {},
   "source": [
    "# Loading data\n",
    "Creating pandas dataframe using the local sqlite file."
   ]
  },
  {
   "cell_type": "code",
   "execution_count": null,
   "metadata": {},
   "outputs": [],
   "source": [
    "import pandas as pd\n",
    "\n",
    "# Read the table Bicycle Value Count into a Pandas dataframe\n",
    "df = pd.read_sql_table('Bicycle_Count', 'sqlite:///my_database.db')\n",
    "\n",
    "# Read the table Total Accidents in Cologne into a Pandas dataframe\n",
    "df_road_signs = pd.read_sql_table('Accident_Cologne', 'sqlite:///my_database.db')\n",
    "\n",
    "# Read the table Total Accidents in Germany into a Pandas dataframe\n",
    "df_road_signs = pd.read_sql_table('Accident_Germany', 'sqlite:///my_database.db')"
   ]
  },
  {
   "cell_type": "markdown",
   "metadata": {},
   "source": [
    "# Question :\n",
    "\n",
    "## 1.What is the change of accident rate across Germany ? Has the accident rate increased or decreased in recent years?\n",
    "\n",
    "Answer :The total accident count, which is a sum of different categories of accidents for example accidents with personal injuries, serious injuries, accidents on freeway etc. along the two years in focus, namely 2017 and 20218"
   ]
  },
  {
   "cell_type": "code",
   "execution_count": null,
   "metadata": {},
   "outputs": [],
   "source": [
    "import pandas as pd\n",
    "import matplotlib.pyplot as plt\n",
    "\n",
    "# Read the Excel file\n",
    "df = pd.read_excel('D:/FAU/MADE/Accident_statistics_Cologne.xlsx')\n",
    "\n",
    "# Set the row index\n",
    "df.set_index(df.columns[0], inplace=True)\n",
    "\n",
    "# Select the last two columns as X-axis values\n",
    "x_values = df.columns[-2:].tolist()\n",
    "\n",
    "# Extract the 'Total' values for the last two columns\n",
    "y_values = df.loc['Total', x_values].tail(2).values\n",
    "\n",
    "# Prepare the x-axis tick labels\n",
    "x_labels = ['2017', '2018']\n",
    "\n",
    "# Plot the graph\n",
    "plt.plot(x_labels, y_values, marker='o')\n",
    "plt.xlabel('Year')\n",
    "plt.ylabel('Total Accident count')\n",
    "plt.title('Total accident rate across Germany ')\n",
    "plt.show()"
   ]
  },
  {
   "cell_type": "markdown",
   "metadata": {},
   "source": [
    "# 2.What is the rate of Bicycle traffic in Cologne?\n",
    "\n",
    "Answer:The total Bicycle count, which is a sum of the bicycle counts across Hohenzollernbrücke ,Zülpicher Straße ,Bonner Straße and Deutzer"
   ]
  },
  {
   "cell_type": "code",
   "execution_count": null,
   "metadata": {},
   "outputs": [],
   "source": [
    "import pandas as pd\n",
    "import matplotlib.pyplot as plt\n",
    "import os\n",
    "\n",
    "csv_files = ['Bicycle_traffic_data_Cologne.xlsx']  \n",
    "\n",
    "x_values = []\n",
    "y_values = []\n",
    "\n",
    "for file_path in csv_files:\n",
    "    file_name = os.path.basename(file_path) \n",
    "    file_name = os.path.splitext(file_name)[0]  \n",
    "    x_values.append(file_name)\n",
    "    \n",
    "    df = pd.read_csv(file_path)\n",
    "    y_values.append(df['Column 3 Sum'].iloc[-1])\n",
    "\n",
    "plt.plot(x_values, y_values, marker='o')\n",
    "plt.xlabel('Date')\n",
    "plt.ylabel('Total Cycle count')\n",
    "plt.title('Cycle count from 2017 to 2018')\n",
    "plt.xticks(rotation=45)\n",
    "plt.show()"
   ]
  },
  {
   "cell_type": "markdown",
   "metadata": {},
   "source": [
    "# Conclusion:\n",
    "\n",
    "In the conclusion we try to answer the following mentioned questions :\n",
    "\n",
    "How is the total accident across Germany related to the accident rate in Cologne?\n",
    "\n",
    "The second and third graph shows a almost similar rate of increase in accident rates. Therefore, we can conclude that the increase in rate of accidents in Germany definitely closely related to the the increase in the rate of accidents in the city of Cologne.\n",
    "\n",
    "How is the accident rate in Cologne related with the bicycle count across the major locations of Cologne?\n",
    "We can see that the bicycle count has significantly decreased in the major summer months from the year 20217 to 2018 , whereas the accidents in Cologne has increased."
   ]
  }
 ],
 "metadata": {
  "kernelspec": {
   "display_name": "env",
   "language": "python",
   "name": "python3"
  },
  "language_info": {
   "codemirror_mode": {
    "name": "ipython",
    "version": 3
   },
   "file_extension": ".py",
   "mimetype": "text/x-python",
   "name": "python",
   "nbconvert_exporter": "python",
   "pygments_lexer": "ipython3",
   "version": "3.11.0"
  }
 },
 "nbformat": 4,
 "nbformat_minor": 2
}
